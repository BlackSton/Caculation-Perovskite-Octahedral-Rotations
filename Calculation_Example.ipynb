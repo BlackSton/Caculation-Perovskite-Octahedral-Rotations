{
 "cells": [
  {
   "cell_type": "code",
   "execution_count": 1,
   "id": "589e6f36",
   "metadata": {},
   "outputs": [],
   "source": [
    "import numpy as np\n",
    "import matplotlib.pyplot as plt\n",
    "import fitting"
   ]
  },
  {
   "cell_type": "code",
   "execution_count": 2,
   "id": "fbc541f1",
   "metadata": {},
   "outputs": [
    {
     "name": "stdout",
     "output_type": "stream",
     "text": [
      "Config option `kernel_spec_manager_class` not recognized by `EnableNBExtensionApp`.\n",
      "Enabling notebook extension jupyter-js-widgets/extension...\n",
      "      - Validating: \u001b[32mOK\u001b[0m\n"
     ]
    }
   ],
   "source": [
    "import ipywidgets as widgets\n",
    "from ipywidgets import interact, interact_manual\n",
    "import pandas as pd\n",
    "!jupyter nbextension enable --py widgetsnbextension"
   ]
  },
  {
   "cell_type": "code",
   "execution_count": 3,
   "id": "db13cfd2",
   "metadata": {},
   "outputs": [
    {
     "name": "stderr",
     "output_type": "stream",
     "text": [
      "/home/eom/Calc.py:29: RuntimeWarning: divide by zero encountered in true_divide\n",
      "  return np.abs(self.sind(a/2)/self.sind(theta+a/2)+self.sind(a/2)/self.sind(theta-a/2))*np.abs(1/(np.sin(np.radians(chi))))\n"
     ]
    }
   ],
   "source": [
    "Fit = fitting.Fit()\n",
    "Fit.I0_use     = False   # using for reference I0 \n",
    "Fit.Oxygen     = True    # defualt = True  // calculating only oxygen term\n",
    "Fit.LP_mode    = 2   # defualt = True  // calculating for Ge(220)-2 bounce monochromatic beam\n",
    "Fit.eta_phi    = True    # defualt = False //\n",
    "Fit.c = 3.944\n",
    "#Fit.wavelength = 0.7\n",
    "Fit.import_data(\"Data/SRO_vac_temp-dep.csv\")"
   ]
  },
  {
   "cell_type": "code",
   "execution_count": 4,
   "id": "bf704345",
   "metadata": {},
   "outputs": [
    {
     "data": {
      "text/html": [
       "<div>\n",
       "<style scoped>\n",
       "    .dataframe tbody tr th:only-of-type {\n",
       "        vertical-align: middle;\n",
       "    }\n",
       "\n",
       "    .dataframe tbody tr th {\n",
       "        vertical-align: top;\n",
       "    }\n",
       "\n",
       "    .dataframe thead th {\n",
       "        text-align: right;\n",
       "    }\n",
       "</style>\n",
       "<table border=\"1\" class=\"dataframe\">\n",
       "  <thead>\n",
       "    <tr style=\"text-align: right;\">\n",
       "      <th></th>\n",
       "      <th>H</th>\n",
       "      <th>K</th>\n",
       "      <th>L</th>\n",
       "      <th>theta</th>\n",
       "      <th>chi</th>\n",
       "      <th>phi</th>\n",
       "      <th>eta</th>\n",
       "      <th>Intensity</th>\n",
       "    </tr>\n",
       "  </thead>\n",
       "  <tbody>\n",
       "    <tr>\n",
       "      <th>0</th>\n",
       "      <td>0.0</td>\n",
       "      <td>0.0</td>\n",
       "      <td>4.0</td>\n",
       "      <td>51.372235</td>\n",
       "      <td>0.000000</td>\n",
       "      <td>-90.000000</td>\n",
       "      <td>inf</td>\n",
       "      <td>1.000000</td>\n",
       "    </tr>\n",
       "    <tr>\n",
       "      <th>1</th>\n",
       "      <td>0.5</td>\n",
       "      <td>0.0</td>\n",
       "      <td>1.5</td>\n",
       "      <td>18.005805</td>\n",
       "      <td>18.606444</td>\n",
       "      <td>-90.000000</td>\n",
       "      <td>0.017696</td>\n",
       "      <td>0.087327</td>\n",
       "    </tr>\n",
       "    <tr>\n",
       "      <th>2</th>\n",
       "      <td>0.5</td>\n",
       "      <td>0.0</td>\n",
       "      <td>2.5</td>\n",
       "      <td>29.875893</td>\n",
       "      <td>11.419933</td>\n",
       "      <td>-90.000000</td>\n",
       "      <td>0.017696</td>\n",
       "      <td>0.022548</td>\n",
       "    </tr>\n",
       "    <tr>\n",
       "      <th>3</th>\n",
       "      <td>0.5</td>\n",
       "      <td>0.0</td>\n",
       "      <td>3.5</td>\n",
       "      <td>43.681135</td>\n",
       "      <td>8.210198</td>\n",
       "      <td>-90.000000</td>\n",
       "      <td>0.017696</td>\n",
       "      <td>0.009519</td>\n",
       "    </tr>\n",
       "    <tr>\n",
       "      <th>4</th>\n",
       "      <td>0.5</td>\n",
       "      <td>0.5</td>\n",
       "      <td>1.5</td>\n",
       "      <td>18.933250</td>\n",
       "      <td>25.459704</td>\n",
       "      <td>-45.000000</td>\n",
       "      <td>0.012513</td>\n",
       "      <td>0.093603</td>\n",
       "    </tr>\n",
       "    <tr>\n",
       "      <th>5</th>\n",
       "      <td>0.5</td>\n",
       "      <td>0.5</td>\n",
       "      <td>2.5</td>\n",
       "      <td>30.516942</td>\n",
       "      <td>15.942919</td>\n",
       "      <td>-45.000000</td>\n",
       "      <td>0.012513</td>\n",
       "      <td>0.001918</td>\n",
       "    </tr>\n",
       "    <tr>\n",
       "      <th>6</th>\n",
       "      <td>0.5</td>\n",
       "      <td>0.5</td>\n",
       "      <td>3.5</td>\n",
       "      <td>44.238849</td>\n",
       "      <td>11.532783</td>\n",
       "      <td>-45.000000</td>\n",
       "      <td>0.012513</td>\n",
       "      <td>0.022903</td>\n",
       "    </tr>\n",
       "    <tr>\n",
       "      <th>7</th>\n",
       "      <td>0.5</td>\n",
       "      <td>1.0</td>\n",
       "      <td>1.5</td>\n",
       "      <td>21.511546</td>\n",
       "      <td>36.972434</td>\n",
       "      <td>-26.565051</td>\n",
       "      <td>0.007914</td>\n",
       "      <td>0.024098</td>\n",
       "    </tr>\n",
       "    <tr>\n",
       "      <th>8</th>\n",
       "      <td>0.5</td>\n",
       "      <td>1.0</td>\n",
       "      <td>2.0</td>\n",
       "      <td>26.651782</td>\n",
       "      <td>29.449073</td>\n",
       "      <td>-26.565051</td>\n",
       "      <td>0.007914</td>\n",
       "      <td>0.010291</td>\n",
       "    </tr>\n",
       "    <tr>\n",
       "      <th>9</th>\n",
       "      <td>0.5</td>\n",
       "      <td>1.5</td>\n",
       "      <td>0.5</td>\n",
       "      <td>19.075741</td>\n",
       "      <td>72.614622</td>\n",
       "      <td>-18.434949</td>\n",
       "      <td>0.005596</td>\n",
       "      <td>0.024454</td>\n",
       "    </tr>\n",
       "    <tr>\n",
       "      <th>10</th>\n",
       "      <td>0.5</td>\n",
       "      <td>1.5</td>\n",
       "      <td>1.5</td>\n",
       "      <td>25.334300</td>\n",
       "      <td>46.792700</td>\n",
       "      <td>-18.434949</td>\n",
       "      <td>0.005596</td>\n",
       "      <td>0.024007</td>\n",
       "    </tr>\n",
       "    <tr>\n",
       "      <th>11</th>\n",
       "      <td>1.5</td>\n",
       "      <td>0.5</td>\n",
       "      <td>1.5</td>\n",
       "      <td>25.334300</td>\n",
       "      <td>46.792700</td>\n",
       "      <td>-71.565051</td>\n",
       "      <td>0.005596</td>\n",
       "      <td>0.031019</td>\n",
       "    </tr>\n",
       "    <tr>\n",
       "      <th>12</th>\n",
       "      <td>-1.5</td>\n",
       "      <td>0.5</td>\n",
       "      <td>1.5</td>\n",
       "      <td>25.334300</td>\n",
       "      <td>46.792700</td>\n",
       "      <td>71.565051</td>\n",
       "      <td>0.005596</td>\n",
       "      <td>0.005891</td>\n",
       "    </tr>\n",
       "    <tr>\n",
       "      <th>13</th>\n",
       "      <td>0.5</td>\n",
       "      <td>1.5</td>\n",
       "      <td>2.5</td>\n",
       "      <td>35.406449</td>\n",
       "      <td>32.569300</td>\n",
       "      <td>-18.434949</td>\n",
       "      <td>0.005596</td>\n",
       "      <td>0.024999</td>\n",
       "    </tr>\n",
       "    <tr>\n",
       "      <th>14</th>\n",
       "      <td>1.5</td>\n",
       "      <td>0.5</td>\n",
       "      <td>2.5</td>\n",
       "      <td>35.406449</td>\n",
       "      <td>32.569300</td>\n",
       "      <td>-71.565051</td>\n",
       "      <td>0.005596</td>\n",
       "      <td>0.019454</td>\n",
       "    </tr>\n",
       "    <tr>\n",
       "      <th>15</th>\n",
       "      <td>0.5</td>\n",
       "      <td>1.5</td>\n",
       "      <td>3.5</td>\n",
       "      <td>48.707990</td>\n",
       "      <td>24.525588</td>\n",
       "      <td>-18.434949</td>\n",
       "      <td>0.005596</td>\n",
       "      <td>0.004344</td>\n",
       "    </tr>\n",
       "    <tr>\n",
       "      <th>16</th>\n",
       "      <td>2.5</td>\n",
       "      <td>0.5</td>\n",
       "      <td>1.5</td>\n",
       "      <td>35.592049</td>\n",
       "      <td>59.777893</td>\n",
       "      <td>-78.690068</td>\n",
       "      <td>0.003471</td>\n",
       "      <td>0.011460</td>\n",
       "    </tr>\n",
       "    <tr>\n",
       "      <th>17</th>\n",
       "      <td>1.5</td>\n",
       "      <td>1.5</td>\n",
       "      <td>0.5</td>\n",
       "      <td>25.447554</td>\n",
       "      <td>76.863902</td>\n",
       "      <td>-45.000000</td>\n",
       "      <td>0.004171</td>\n",
       "      <td>0.010010</td>\n",
       "    </tr>\n",
       "    <tr>\n",
       "      <th>18</th>\n",
       "      <td>1.5</td>\n",
       "      <td>1.5</td>\n",
       "      <td>2.5</td>\n",
       "      <td>40.018394</td>\n",
       "      <td>40.596660</td>\n",
       "      <td>-45.000000</td>\n",
       "      <td>0.004171</td>\n",
       "      <td>0.007339</td>\n",
       "    </tr>\n",
       "  </tbody>\n",
       "</table>\n",
       "</div>"
      ],
      "text/plain": [
       "      H    K    L      theta        chi        phi       eta  Intensity\n",
       "0   0.0  0.0  4.0  51.372235   0.000000 -90.000000       inf   1.000000\n",
       "1   0.5  0.0  1.5  18.005805  18.606444 -90.000000  0.017696   0.087327\n",
       "2   0.5  0.0  2.5  29.875893  11.419933 -90.000000  0.017696   0.022548\n",
       "3   0.5  0.0  3.5  43.681135   8.210198 -90.000000  0.017696   0.009519\n",
       "4   0.5  0.5  1.5  18.933250  25.459704 -45.000000  0.012513   0.093603\n",
       "5   0.5  0.5  2.5  30.516942  15.942919 -45.000000  0.012513   0.001918\n",
       "6   0.5  0.5  3.5  44.238849  11.532783 -45.000000  0.012513   0.022903\n",
       "7   0.5  1.0  1.5  21.511546  36.972434 -26.565051  0.007914   0.024098\n",
       "8   0.5  1.0  2.0  26.651782  29.449073 -26.565051  0.007914   0.010291\n",
       "9   0.5  1.5  0.5  19.075741  72.614622 -18.434949  0.005596   0.024454\n",
       "10  0.5  1.5  1.5  25.334300  46.792700 -18.434949  0.005596   0.024007\n",
       "11  1.5  0.5  1.5  25.334300  46.792700 -71.565051  0.005596   0.031019\n",
       "12 -1.5  0.5  1.5  25.334300  46.792700  71.565051  0.005596   0.005891\n",
       "13  0.5  1.5  2.5  35.406449  32.569300 -18.434949  0.005596   0.024999\n",
       "14  1.5  0.5  2.5  35.406449  32.569300 -71.565051  0.005596   0.019454\n",
       "15  0.5  1.5  3.5  48.707990  24.525588 -18.434949  0.005596   0.004344\n",
       "16  2.5  0.5  1.5  35.592049  59.777893 -78.690068  0.003471   0.011460\n",
       "17  1.5  1.5  0.5  25.447554  76.863902 -45.000000  0.004171   0.010010\n",
       "18  1.5  1.5  2.5  40.018394  40.596660 -45.000000  0.004171   0.007339"
      ]
     },
     "metadata": {},
     "output_type": "display_data"
    }
   ],
   "source": [
    "Xray_Data = pd.DataFrame({'H':Fit.h,'K':Fit.k,'L':Fit.l,'theta':Fit.theta,'chi':Fit.chi,'phi':Fit.phi,'eta':Fit.eta,'Intensity':Fit.ED})\n",
    "#Filter = Xray_Data.sort_values(by='phi',ascending = False)\n",
    "display(Xray_Data)"
   ]
  },
  {
   "cell_type": "code",
   "execution_count": 5,
   "id": "12e42fae",
   "metadata": {},
   "outputs": [
    {
     "data": {
      "image/png": "[encoded data removed]",
      "text/plain": [
       "<Figure size 1440x288 with 3 Axes>"
      ]
     },
     "metadata": {
      "needs_background": "light"
     },
     "output_type": "display_data"
    }
   ],
   "source": [
    "Fit.Background_Effect(8.,6.,5.,0.25,0.25,0.25,0.25)"
   ]
  },
  {
   "cell_type": "code",
   "execution_count": 6,
   "id": "624b05dc",
   "metadata": {},
   "outputs": [
    {
     "data": {
      "text/plain": [
       "\"Fit.cons = [{'type':'eq','fun':Fit.Cons_ab_equal},\\n            {'type':'eq','fun':Fit.Cons_x_equal},\\n            {'type':'eq','fun':Fit.Cons_y_equal},\\n            {'type':'eq','fun':Fit.Cons_xy_equal}]\""
      ]
     },
     "execution_count": 6,
     "metadata": {},
     "output_type": "execute_result"
    }
   ],
   "source": [
    "Fit.Init=[4.,4.,5,\n",
    "          0,0,\n",
    "          0.15,0.35,0.35,0.15]\n",
    "Fit.Low_Boundary =[-25,-25,-25, \n",
    "                    -0.2,-0.2,\n",
    "                    0.,0.,0.,0.]\n",
    "Fit.High_Boundary=[50,30,30,\n",
    "                    0.3,0.08,\n",
    "                    1.,1.,1.,1.]\n",
    "Fit.direction = '+--'\n",
    "Fit.cons = [\n",
    "    \n",
    "            {'type':'eq','fun':lambda x: x[5]+x[6]+x[7]+x[8]-1},\n",
    "    \n",
    "            ]\n",
    "\"\"\"Fit.cons = [\n",
    "            {'type':'eq','fun':Fit.Cons_x_equal},\n",
    "            {'type':'eq','fun':Fit.Cons_y_equal},\n",
    "            {'type':'eq','fun':Fit.Cons_xy_equal}]\"\"\"\n",
    "\"\"\"Fit.cons = [{'type':'eq','fun':Fit.Cons_ab_equal},\n",
    "            {'type':'eq','fun':Fit.Cons_x_equal},\n",
    "            {'type':'eq','fun':Fit.Cons_y_equal},\n",
    "            {'type':'eq','fun':Fit.Cons_xy_equal}]\"\"\""
   ]
  },
  {
   "cell_type": "code",
   "execution_count": 7,
   "id": "340fa1f6",
   "metadata": {},
   "outputs": [
    {
     "name": "stdout",
     "output_type": "stream",
     "text": [
      "4 False\n",
      "alpha : 4.0\n",
      "beta  : 4.0\n",
      "gamma : 5.0\n",
      "d1    : 0.0\n",
      "d2    : 0.0\n",
      "X1    : 15.0\n",
      "Y1    : 35.0\n",
      "X2    : 35.0\n",
      "Y2    : 15.0\n",
      "fun   : nan\n"
     ]
    },
    {
     "name": "stderr",
     "output_type": "stream",
     "text": [
      "/home/eom/Calc.py:467: RuntimeWarning: invalid value encountered in cdouble_scalars\n",
      "  I += self.I0*eta*L_P* F_HKL * np.conj(F_HKL)*vol_frac\n",
      "/home/eom/Calc.py:467: RuntimeWarning: invalid value encountered in multiply\n",
      "  I += self.I0*eta*L_P* F_HKL * np.conj(F_HKL)*vol_frac\n"
     ]
    },
    {
     "data": {
      "image/png": "[encoded data removed]",
      "text/plain": [
       "<Figure size 432x288 with 1 Axes>"
      ]
     },
     "metadata": {
      "needs_background": "light"
     },
     "output_type": "display_data"
    }
   ],
   "source": [
    "Fit.fit_minimize()\n",
    "Fit.Init = Fit.res.x\n",
    "Fit.fit_result()"
   ]
  },
  {
   "cell_type": "code",
   "execution_count": 8,
   "id": "4f1741bf",
   "metadata": {},
   "outputs": [
    {
     "data": {
      "text/plain": [
       "     fun: nan\n",
       "     jac: array([nan, nan, nan, nan, nan, nan, nan, nan, nan])\n",
       " message: 'Inequality constraints incompatible'\n",
       "    nfev: 10\n",
       "     nit: 1\n",
       "    njev: 1\n",
       "  status: 4\n",
       " success: False\n",
       "       x: array([4.  , 4.  , 5.  , 0.  , 0.  , 0.15, 0.35, 0.35, 0.15])"
      ]
     },
     "execution_count": 8,
     "metadata": {},
     "output_type": "execute_result"
    }
   ],
   "source": [
    "Fit.res"
   ]
  },
  {
   "cell_type": "code",
   "execution_count": 9,
   "id": "d98ed5e1",
   "metadata": {},
   "outputs": [
    {
     "data": {
      "application/vnd.jupyter.widget-view+json": {
       "model_id": "ed4df89f18384120a1798bfa15c7ac78",
       "version_major": 2,
       "version_minor": 0
      },
      "text/plain": [
       "interactive(children=(IntSlider(value=0, description='alpha', max=200, min=-200), IntSlider(value=0, descripti…"
      ]
     },
     "metadata": {},
     "output_type": "display_data"
    },
    {
     "data": {
      "text/plain": [
       "<function __main__.func(alpha, beta, gamma, d1, d2, X1, Y1, X2, Y2)>"
      ]
     },
     "execution_count": 9,
     "metadata": {},
     "output_type": "execute_result"
    }
   ],
   "source": [
    "def func(alpha,beta,gamma,d1,d2,X1,Y1,X2,Y2):\n",
    "    TD=Fit.TD([alpha/10,beta/10,gamma/10,d1/1000,d2/1000,X1/100,Y1/100,X2/100,Y2/100])\n",
    "    plt.plot(np.arange(Fit.h.shape[0]),TD,'bo')\n",
    "    plt.plot(np.arange(Fit.h.shape[0]),Fit.ED,'rx')\n",
    "    \n",
    "alpha = widgets.IntSlider(min=-200., max=200., step=1, value=0.)\n",
    "beta = widgets.IntSlider(min=-200., max=200., step=1, value=0.)\n",
    "gamma = widgets.IntSlider(min=-200., max=200., step=1, value=0.)\n",
    "d1 = widgets.IntSlider(min=0., max=50., step=1, value=0.)\n",
    "d2 = widgets.IntSlider(min=0., max=50., step=1, value=0.)\n",
    "X1 = widgets.IntSlider(min=0., max=100., step=1, value=25)\n",
    "Y1 = widgets.IntSlider(min=0., max=100., step=1, value=25)\n",
    "X2 = widgets.IntSlider(min=0., max=100., step=1, value=25)\n",
    "Y2 = widgets.IntSlider(min=0., max=100., step=1, value=25)\n",
    "\n",
    "interact(func,alpha=alpha,beta=beta,gamma=gamma,d1=d1,d2=d2,X1=X1,Y1=Y1,X2=X2,Y2=Y2)"
   ]
  },
  {
   "cell_type": "code",
   "execution_count": 10,
   "id": "a3d6fac0",
   "metadata": {},
   "outputs": [],
   "source": [
    "Run = False\n",
    "if Run == True:\n",
    "    a_min = 5\n",
    "    a_max = 15\n",
    "    c_min = 5\n",
    "    c_max = 17\n",
    "    a = np.linspace(a_min,a_max,100)\n",
    "    c = np.linspace(c_min,c_max,100)\n",
    "    x,y = np.meshgrid(a,c)\n",
    "    Result = np.zeros((a.shape[0],c.shape[0]))\n",
    "    for i in range(c.shape[0]):\n",
    "        if i %10 == 0:\n",
    "            print(i)\n",
    "        for j in range(a.shape[0]):\n",
    "            Result[i,j] = np.sum(np.abs(Fit.ED-Fit.TD([x[i,j],x[i,j],y[i,j],0,0,0.25,0.25,0.25,0.25])))\n",
    "    plt.figure(figsize=(10,10))\n",
    "    plt.imshow(np.log(Result),origin='lower',extent=[a_min,a_max,c_min,c_max])"
   ]
  },
  {
   "cell_type": "code",
   "execution_count": null,
   "id": "b82dfbcb",
   "metadata": {},
   "outputs": [],
   "source": []
  }
 ],
 "metadata": {
  "kernelspec": {
   "display_name": "Python 3 (ipykernel)",
   "language": "python",
   "name": "python3"
  },
  "language_info": {
   "codemirror_mode": {
    "name": "ipython",
    "version": 3
   },
   "file_extension": ".py",
   "mimetype": "text/x-python",
   "name": "python",
   "nbconvert_exporter": "python",
   "pygments_lexer": "ipython3",
   "version": "3.9.5"
  }
 },
 "nbformat": 4,
 "nbformat_minor": 5
}
